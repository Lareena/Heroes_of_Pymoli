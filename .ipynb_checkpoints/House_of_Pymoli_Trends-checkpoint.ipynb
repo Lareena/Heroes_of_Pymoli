{
 "cells": [
  {
   "cell_type": "markdown",
   "metadata": {},
   "source": [
    "Observed Trends:\n",
    "\n",
    "1. The majority of players are male (84%) versus female (14%) with less than 2% not disclosing gender.\n",
    "\n",
    "2. Female players have a higher average purchase price of $3.20 versus male players at $3.02. Female players also have a higher average total purchase total of $4.47 versus male players at $4.07.\n",
    "\n",
    "3. The highest percentage of players are between the ages of 20 to 24 at 44.8%. Second highest being players ages 15 to 19 at 18.6%. Third highest being players 25 to 29 at 13.4%.\n"
   ]
  }
 ],
 "metadata": {
  "kernelspec": {
   "display_name": "Python [conda env:PythonData] *",
   "language": "python",
   "name": "conda-env-PythonData-py"
  },
  "language_info": {
   "codemirror_mode": {
    "name": "ipython",
    "version": 3
   },
   "file_extension": ".py",
   "mimetype": "text/x-python",
   "name": "python",
   "nbconvert_exporter": "python",
   "pygments_lexer": "ipython3",
   "version": "3.6.10"
  }
 },
 "nbformat": 4,
 "nbformat_minor": 4
}
